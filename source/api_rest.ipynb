{
 "cells": [
  {
   "cell_type": "code",
   "execution_count": null,
   "metadata": {},
   "outputs": [],
   "source": [
    "from binance.client import Client\n",
    "import csv\n",
    "\n",
    "# Thiết lập API key và secret key\n",
    "api_key = \"Jv1PWkeMgF1FQqGB18nAsuG43tdf52FIP2e7MSN32WWWFMZUqIG0nPfmDETSDQIgt\"\n",
    "secret_key = \"GBof7fGYy1dBeoLgVc3snBD62blJysDKXS7ht8xSsjew24vZ7O5w1IcErQ5KY4Un\"\n",
    "\n",
    "# Khởi tạo Binance API client\n",
    "client = Client(api_key, secret_key)\n",
    "\n",
    "# Lấy dữ liệu sổ lệnh cho cặp tiền ETH/USDT\n",
    "symbol = 'ETHUSDT'\n",
    "depth = client.get_order_book(symbol=symbol, limit=1000)\n",
    "\n",
    "# Lấy các giá trị từ dữ liệu sổ lệnh\n",
    "bids = depth['bids']\n",
    "asks = depth['asks']\n",
    "\n"
   ]
  },
  {
   "cell_type": "code",
   "execution_count": 23,
   "metadata": {},
   "outputs": [
    {
     "name": "stdout",
     "output_type": "stream",
     "text": [
      "Dữ liệu sổ lệnh đã được lưu vào file D:/Python-for-Data-Analyst/binance_with_libraries_selenium/data/binance_order_book.csv\n"
     ]
    }
   ],
   "source": [
    "\n",
    "# Lưu vào file CSV\n",
    "filename ='D:/Python-for-Data-Analyst/binance_with_libraries_selenium/data/binance_order_book.csv'\n",
    "with open(filename, 'w', newline='') as csvfile:\n",
    "    writer = csv.writer(csvfile)\n",
    "\n",
    "    # Ghi header cho file CSV\n",
    "    writer.writerow(['Side', 'Price', 'Quantity', 'Total'])\n",
    "\n",
    "    # Ghi dữ liệu asks\n",
    "    for ask in asks:\n",
    "        price = float(ask[0]) * 1000\n",
    "        price = round(price) / 1000\n",
    "        total_ask = price * float(ask[1])\n",
    "        if total_ask > 0:\n",
    "            writer.writerow(['ASK', f\"{price:.3f}\", ''.join(c for c in str(ask[1]) if c.isprintable()), total_ask])\n",
    "\n",
    "    # Ghi dữ liệu bids\n",
    "    for bid in bids:\n",
    "        price = float(bid[0]) * 1000\n",
    "        price = round(price) / 1000\n",
    "        total_bid = price * float(bid[1])\n",
    "        if total_bid > 0:\n",
    "            writer.writerow(['BID', f\"{price:.3f}\", ''.join(c for c in str(bid[1]) if c.isprintable()), total_bid])\n",
    "\n",
    "print(f\"Dữ liệu sổ lệnh đã được lưu vào file {filename}\")\n"
   ]
  }
 ],
 "metadata": {
  "kernelspec": {
   "display_name": ".venv",
   "language": "python",
   "name": "python3"
  },
  "language_info": {
   "codemirror_mode": {
    "name": "ipython",
    "version": 3
   },
   "file_extension": ".py",
   "mimetype": "text/x-python",
   "name": "python",
   "nbconvert_exporter": "python",
   "pygments_lexer": "ipython3",
   "version": "3.12.0"
  }
 },
 "nbformat": 4,
 "nbformat_minor": 2
}
